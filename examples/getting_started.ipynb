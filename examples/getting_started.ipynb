{
 "cells": [
  {
   "attachments": {},
   "cell_type": "markdown",
   "id": "fd1be148",
   "metadata": {},
   "source": [
    "# Langchainrb Getting Started Notebook\n",
    "\n",
    "Before we get started, install Jupyter Notedbooks and support for Ruby [here](https://github.com/SciRuby/iruby#readme), create and edit .env to have the required KEYS, and make sure you have installed the required gems for these examples on the command line:\n",
    "\n",
    "```bash\n",
    "gem install langchainrb\n",
    "gem install dotenv\n",
    "\n",
    "gem install iruby\n",
    "iruby register --force\n",
    "```"
   ]
  },
  {
   "cell_type": "code",
   "execution_count": null,
   "id": "ead31eb9",
   "metadata": {},
   "outputs": [],
   "source": [
    "# setup for code below\n",
    "require \"dotenv/load\"\n",
    "require \"langchain\""
   ]
  },
  {
   "attachments": {},
   "cell_type": "markdown",
   "id": "8c865805-1b6f-43fe-bb19-2c1597600b5c",
   "metadata": {},
   "source": [
    "## Chain-of-Thought Agent Example Required Setup\n",
    "\n",
    "For the first example, install the following additional gems on the command line:\n",
    "\n",
    "```bash\n",
    "gem install ruby-openai\n",
    "gem install eqn\n",
    "gem install google_search_results\n",
    "```\n",
    "and make sure you have defined the KEYS required for this example in your .env file:\n",
    "\n",
    "```bash\n",
    "OPENAI_API_KEY\n",
    "SERPAPI_API_KEY\n",
    " ```"
   ]
  },
  {
   "cell_type": "code",
   "execution_count": null,
   "id": "1c4eb913-1e15-49a9-9b35-d4e21e5adfef",
   "metadata": {},
   "outputs": [],
   "source": [
    "# setup for code below\n",
    "require \"openai\"\n",
    "require \"eqn\"\n",
    "require \"google_search_results\"\n"
   ]
  },
  {
   "attachments": {},
   "cell_type": "markdown",
   "id": "13f664dd-1403-4a12-a6c7-d8a18287ce47",
   "metadata": {},
   "source": [
    "## Chain-of-Thought example using Tools\n",
    "Here is an example of an Agent using several Tools to answer a question by decomposing it into multiple intermediate steps."
   ]
  },
  {
   "cell_type": "code",
   "execution_count": null,
   "id": "9915ff7c-dc15-4174-b92e-9e1dd317c0b6",
   "metadata": {},
   "outputs": [],
   "source": [
    "search_tool = Langchain::Tool::GoogleSearch.new(api_key: ENV[\"SERPAPI_API_KEY\"])\n",
    "calculator_tool = Langchain::Tool::Calculator.new\n",
    "\n",
    "openai = Langchain::LLM::OpenAI.new(api_key: ENV[\"OPENAI_API_KEY\"])\n",
    "\n",
    "agent = Langchain::Agent::ChainOfThoughtAgent.new(\n",
    "  llm: openai,\n",
    "  tools: [search_tool, calculator_tool]\n",
    ")\n",
    "\n",
    "agent.run(question: \"How many full soccer fields would be needed to cover the distance between NYC and DC in a straight line?\")"
   ]
  }
 ],
 "metadata": {
  "kernelspec": {
   "display_name": "Ruby 3.2.1",
   "language": "ruby",
   "name": "ruby"
  },
  "language_info": {
   "file_extension": ".rb",
   "mimetype": "application/x-ruby",
   "name": "ruby",
   "version": "3.2.1"
  }
 },
 "nbformat": 4,
 "nbformat_minor": 5
}
